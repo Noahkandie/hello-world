{
  "nbformat": 4,
  "nbformat_minor": 0,
  "metadata": {
    "colab": {
      "name": "Moringa_Data_Science_Prep_W3_Independent_Project_2019_07_Noah_Kandie_DataReport.ipynb",
      "provenance": [],
      "collapsed_sections": [],
      "authorship_tag": "ABX9TyNzgIcSbwo6ycIGGdCqWo8p",
      "include_colab_link": true
    },
    "kernelspec": {
      "name": "python3",
      "display_name": "Python 3"
    },
    "language_info": {
      "name": "python"
    }
  },
  "cells": [
    {
      "cell_type": "markdown",
      "metadata": {
        "id": "view-in-github",
        "colab_type": "text"
      },
      "source": [
        "<a href=\"https://colab.research.google.com/github/Noahkandie/hello-world/blob/master/Moringa_Data_Science_Prep_W3_Independent_Project_2019_07_Noah_Kandie_DataReport.ipynb\" target=\"_parent\"><img src=\"https://colab.research.google.com/assets/colab-badge.svg\" alt=\"Open In Colab\"/></a>"
      ]
    },
    {
      "cell_type": "code",
      "metadata": {
        "id": "allkmwsFn4hm"
      },
      "source": [
        "#Import pandas and numpy\n",
        "import pandas as pd\n",
        "import numpy as np\n",
        "\n"
      ],
      "execution_count": null,
      "outputs": []
    },
    {
      "cell_type": "code",
      "metadata": {
        "id": "hAvVA5gToxT1"
      },
      "source": [
        "# Loading the datasets\n",
        "cdr=pd.read_excel('/content/CDR_description.xlsx',index_col=0)\n",
        "cdr"
      ],
      "execution_count": null,
      "outputs": []
    },
    {
      "cell_type": "code",
      "metadata": {
        "id": "-wpnFNauuR_f"
      },
      "source": [
        "\n",
        "cells_geo_d=pd.read_excel('cells_geo_description.xlsx')\n",
        "cells_geo_d"
      ],
      "execution_count": null,
      "outputs": []
    },
    {
      "cell_type": "code",
      "metadata": {
        "id": "R7qBwRILv36n"
      },
      "source": [
        "tel_1=pd.read_csv('/content/Telcom_dataset.csv')\n",
        "tel_1.head()\n"
      ],
      "execution_count": null,
      "outputs": []
    },
    {
      "cell_type": "code",
      "metadata": {
        "id": "Jh-APq9GwMRE"
      },
      "source": [
        "tel_2=pd.read_csv('/content/Telcom_dataset2.csv')\n",
        "tel_2.head()"
      ],
      "execution_count": null,
      "outputs": []
    },
    {
      "cell_type": "code",
      "metadata": {
        "id": "JkLj3_QrwQTf"
      },
      "source": [
        "tel_3=pd.read_csv('/content/Telcom_dataset3.csv')\n",
        "tel_3.head()"
      ],
      "execution_count": null,
      "outputs": []
    },
    {
      "cell_type": "code",
      "metadata": {
        "id": "p44PsVlLtebM"
      },
      "source": [
        "cells_geo=pd.read_csv('/content/cells_geo.csv',sep=';')\n",
        "cells_geo.head()"
      ],
      "execution_count": null,
      "outputs": []
    },
    {
      "cell_type": "code",
      "metadata": {
        "id": "9A4peodYPPIl"
      },
      "source": [
        "# Checking data shapes\n",
        "tel_1.info()\n",
        "#change column names produtc to product,Datetime -Date_time etc."
      ],
      "execution_count": null,
      "outputs": []
    },
    {
      "cell_type": "code",
      "metadata": {
        "id": "HboLMfdnQLCT"
      },
      "source": [
        "tel_2.info()"
      ],
      "execution_count": null,
      "outputs": []
    },
    {
      "cell_type": "code",
      "metadata": {
        "id": "lSEhsx5ZQNkY"
      },
      "source": [
        "tel_3.info()\n"
      ],
      "execution_count": null,
      "outputs": []
    },
    {
      "cell_type": "code",
      "metadata": {
        "id": "k160hox6QQrq"
      },
      "source": [
        "cells_geo.info()"
      ],
      "execution_count": null,
      "outputs": []
    },
    {
      "cell_type": "code",
      "metadata": {
        "id": "vadkiF1iSXHh"
      },
      "source": [
        "# clean data\n",
        "# Change column names(uniform in different data sets)\n",
        "tel_1.rename(columns={'PRODUTC':'PRODUCT','DATETIME':'DATE_TIME'},inplace=True)\n",
        "tel_1.head()"
      ],
      "execution_count": null,
      "outputs": []
    },
    {
      "cell_type": "code",
      "metadata": {
        "id": "vwuWC4cJV173"
      },
      "source": [
        "tel_2.rename(columns={'DW_A_NUMBER':'DW_A_NUMBER_INT','DW_B_NUMBER':'DW_B_NUMBER_INT'},inplace=True)\n",
        "tel_2.head()"
      ],
      "execution_count": null,
      "outputs": []
    },
    {
      "cell_type": "code",
      "metadata": {
        "id": "stastWfBWZYG"
      },
      "source": [
        "tel_3.rename(columns={'CELLID':'CELL_ID','SIET_ID':'SITE_ID'},inplace=True)\n",
        "tel_3.head()"
      ],
      "execution_count": null,
      "outputs": []
    },
    {
      "cell_type": "code",
      "metadata": {
        "id": "KWMhX0LZWupa"
      },
      "source": [
        "# Delete unneeded columns \n",
        "\n",
        "cells_geo.drop(columns='Unnamed: 0',inplace=True)\n",
        "cells_geo.tail()"
      ],
      "execution_count": null,
      "outputs": []
    },
    {
      "cell_type": "code",
      "metadata": {
        "id": "H3ZuMkGVYMWE"
      },
      "source": [
        "tel_1.drop(columns=['CELL_ON_SITE','COUNTRY_A','COUNTRY_B'],inplace=True)\n",
        "tel_2.drop(columns=['CELL_ON_SITE','COUNTRY_A','COUNTRY_B'],inplace=True)\n",
        "tel_3.drop(columns=['CELL_ON_SITE','COUNTRY_A','COUNTRY_B'],inplace=True)\n"
      ],
      "execution_count": null,
      "outputs": []
    },
    {
      "cell_type": "code",
      "metadata": {
        "id": "16gCEA5TZ4Pn"
      },
      "source": [
        "# Delete duplicates in the dataframes\n",
        "cells_geo.drop_duplicates(inplace=True)\n",
        "cells_geo.tail()"
      ],
      "execution_count": null,
      "outputs": []
    },
    {
      "cell_type": "code",
      "metadata": {
        "id": "pAsdQQ6iant5"
      },
      "source": [
        "tel_1.drop_duplicates(inplace=True)\n",
        "tel_2.drop_duplicates(inplace=True)\n",
        "tel_3.drop_duplicates(inplace=True)"
      ],
      "execution_count": null,
      "outputs": []
    },
    {
      "cell_type": "code",
      "metadata": {
        "id": "CAhMbwIUbWca"
      },
      "source": [
        "# Missing values\n",
        "tel_1.isnull().value_counts()\n"
      ],
      "execution_count": null,
      "outputs": []
    },
    {
      "cell_type": "code",
      "metadata": {
        "id": "IbFuYalSe4iV"
      },
      "source": [
        "tel_2.isnull().value_counts()"
      ],
      "execution_count": null,
      "outputs": []
    },
    {
      "cell_type": "code",
      "metadata": {
        "id": "JH4T4sMme9Ia"
      },
      "source": [
        "tel_3.isnull().value_counts()"
      ],
      "execution_count": null,
      "outputs": []
    },
    {
      "cell_type": "code",
      "metadata": {
        "id": "EzVvpCoKfA0a"
      },
      "source": [
        "cells_geo.isnull().value_counts()"
      ],
      "execution_count": null,
      "outputs": []
    },
    {
      "cell_type": "code",
      "metadata": {
        "id": "uamtkWPkuLsQ"
      },
      "source": [
        " tel_1=tel_1.dropna()\n",
        " tel_2=tel_2.dropna()\n",
        " tel_3=tel_3.dropna()\n",
        " cells_geo=cells_geo.dropna()"
      ],
      "execution_count": null,
      "outputs": []
    },
    {
      "cell_type": "code",
      "metadata": {
        "id": "ZelCFJnXiZ_s"
      },
      "source": [
        "# Merge the dataframes\n",
        "tel_a=pd.concat([tel_1,tel_2,tel_3],ignore_index=True,axis=0)\n",
        "tel_a.head()\n",
        "\n"
      ],
      "execution_count": null,
      "outputs": []
    },
    {
      "cell_type": "code",
      "metadata": {
        "id": "3tMx_-9Yoz9V"
      },
      "source": [
        "tel_a.info"
      ],
      "execution_count": null,
      "outputs": []
    },
    {
      "cell_type": "code",
      "metadata": {
        "id": "ylk2ra3eo2Lo"
      },
      "source": [
        "#join all dataframes\n",
        "tel_geo=cells_geo.merge(tel_a,how='inner', left_on=['SITE_CODE'], right_on=['SITE_ID'])\n",
        "tel_geo.head()"
      ],
      "execution_count": null,
      "outputs": []
    },
    {
      "cell_type": "code",
      "metadata": {
        "id": "iL93OCQExu-t"
      },
      "source": [
        "tel_geo['DATE_TIME']=pd.to_datetime(tel_geo['DATE_TIME'])\n",
        "tel_geo.isnull()\n"
      ],
      "execution_count": null,
      "outputs": []
    },
    {
      "cell_type": "code",
      "metadata": {
        "id": "yU6gXNofvAqm"
      },
      "source": [
        "import datetime\n",
        "tel_geo['DATE']=[d.date()for d in tel_geo['DATE_TIME']] \n",
        "tel_geo['TIME']=[d.time()for d in tel_geo['DATE_TIME']] \n",
        "tel_geo.head()"
      ],
      "execution_count": null,
      "outputs": []
    },
    {
      "cell_type": "code",
      "metadata": {
        "id": "gkrwP1ajy76s"
      },
      "source": [
        "tel_geo.tail()"
      ],
      "execution_count": null,
      "outputs": []
    },
    {
      "cell_type": "code",
      "metadata": {
        "id": "xGDN2PqVtGMl"
      },
      "source": [
        "tel_geo['VILLES'].value_counts()"
      ],
      "execution_count": null,
      "outputs": []
    },
    {
      "cell_type": "markdown",
      "metadata": {
        "id": "8mYf8yRY5D2t"
      },
      "source": [
        "Data EXploration\n"
      ]
    },
    {
      "cell_type": "code",
      "metadata": {
        "id": "mqtNsiK37s89"
      },
      "source": [
        "#Frequency per product.\n",
        "tel_geo['PRODUCT'].value_counts()"
      ],
      "execution_count": null,
      "outputs": []
    },
    {
      "cell_type": "code",
      "metadata": {
        "id": "_GMKn-qU47jV"
      },
      "source": [
        "# Frequency of traffic per zone\n",
        "tel_geo['ZONENAME'].value_counts()"
      ],
      "execution_count": null,
      "outputs": []
    },
    {
      "cell_type": "code",
      "metadata": {
        "id": "IFJrm3494gbf"
      },
      "source": [
        "# The cities with most telcom traffic (>1000)\n",
        "x=tel_geo['VILLES'].value_counts()\n",
        "city1=x[x>1000]\n",
        "city1"
      ],
      "execution_count": null,
      "outputs": []
    },
    {
      "cell_type": "code",
      "metadata": {
        "id": "Db6DNEyg2vqJ"
      },
      "source": [
        "# Amount of traffic per region\n",
        "tel_geo['REGION'].value_counts()"
      ],
      "execution_count": null,
      "outputs": []
    },
    {
      "cell_type": "code",
      "metadata": {
        "id": "tRNxRh4N5bm5"
      },
      "source": [
        "# Which date had most traffic\n",
        "tel_geo['DATE'].value_counts()"
      ],
      "execution_count": null,
      "outputs": []
    },
    {
      "cell_type": "code",
      "metadata": {
        "id": "SeDfclup55HQ"
      },
      "source": [
        "# The frequency of traffic in Abidjan and Interior of the country\n",
        "tel_geo['LOCALISATION'].value_counts()"
      ],
      "execution_count": null,
      "outputs": []
    },
    {
      "cell_type": "code",
      "metadata": {
        "id": "LGeBp8YT6-mc"
      },
      "source": [
        "# All the cellphones are in service\n",
        "tel_geo['STATUS'].value_counts()"
      ],
      "execution_count": null,
      "outputs": []
    },
    {
      "cell_type": "code",
      "metadata": {
        "id": "D--SxJxw7Psm"
      },
      "source": [
        "#Frequencyt per geographical zone\n",
        "tel_geo['DECOUPZONE'].value_counts()"
      ],
      "execution_count": null,
      "outputs": []
    },
    {
      "cell_type": "code",
      "metadata": {
        "id": "fav56RMutB7n"
      },
      "source": [
        "# The mean of the value of communication per product\n",
        "tel_geo_2=tel_geo[['PRODUCT','VILLES','VALUE']]\n",
        "tel_geo_2"
      ],
      "execution_count": null,
      "outputs": []
    },
    {
      "cell_type": "code",
      "metadata": {
        "id": "-jWD-HWKSpA9"
      },
      "source": [
        "#Profits per product\n",
        "profits_pd = tel_geo_2.groupby(['PRODUCT'])['VALUE'].sum()\n",
        "(profits_pd / profits_pd.sum())*100"
      ],
      "execution_count": null,
      "outputs": []
    },
    {
      "cell_type": "code",
      "metadata": {
        "id": "Ho6x-hf-TfVD"
      },
      "source": [
        "# profit per city\n",
        "a=tel_geo_2.groupby(['VILLES'])['VALUE'].sum().sort_values(ascending=False).head(10)\n",
        "a"
      ],
      "execution_count": null,
      "outputs": []
    },
    {
      "cell_type": "code",
      "metadata": {
        "id": "Hz0YkJw4Ov-v"
      },
      "source": [
        "table = pd.pivot_table(tel_geo_2, values='VALUE', index=['PRODUCT','VILLES'],aggfunc=np.sum)"
      ],
      "execution_count": null,
      "outputs": []
    },
    {
      "cell_type": "code",
      "metadata": {
        "id": "E_GFraC4USRV"
      },
      "source": [
        "table.groupby(\n",
        "    level='PRODUCT', group_keys=False\n",
        ").apply(pd.DataFrame.sort_values, by='VALUE', ascending=False)"
      ],
      "execution_count": null,
      "outputs": []
    },
    {
      "cell_type": "code",
      "metadata": {
        "id": "jjwsO9yiQs9f"
      },
      "source": [
        ""
      ],
      "execution_count": null,
      "outputs": []
    }
  ]
}